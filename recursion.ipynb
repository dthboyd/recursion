{
 "cells": [
  {
   "cell_type": "code",
   "execution_count": 1,
   "metadata": {},
   "outputs": [
    {
     "name": "stdout",
     "output_type": "stream",
     "text": [
      "1\n",
      "1\n",
      "2\n",
      "3\n",
      "5\n",
      "8\n",
      "13\n",
      "21\n",
      "34\n",
      "55\n"
     ]
    }
   ],
   "source": [
    "# Fibonnaci\n",
    "\n",
    "def fib(n):\n",
    "    if n==0:\n",
    "        return 1\n",
    "    elif n==1:\n",
    "        return 1\n",
    "    else:\n",
    "        return fib(n-1) + fib(n-2)\n",
    "    \n",
    "for i in range(10):\n",
    "    print(fib(i))"
   ]
  },
  {
   "cell_type": "code",
   "execution_count": 2,
   "metadata": {},
   "outputs": [
    {
     "data": {
      "text/plain": [
       "8"
      ]
     },
     "execution_count": 2,
     "metadata": {},
     "output_type": "execute_result"
    }
   ],
   "source": [
    "fib(5)"
   ]
  },
  {
   "cell_type": "code",
   "execution_count": 3,
   "metadata": {},
   "outputs": [],
   "source": [
    "my_dict0 = {'root': {'b1': [1],\n",
    "                     'b2': [2]}\n",
    "           }\n",
    "\n",
    "my_dict1 = {'root': {'b1': {'leaf1': [1,2,3],\n",
    "                            'leaf2': [4],\n",
    "                            'leaf3': [5,6]\n",
    "                           },\n",
    "                     'b2': {'leaf1': [7,8],\n",
    "                            'leaf2': [9,10,11]\n",
    "                           },\n",
    "                     'b3': 12\n",
    "                    }\n",
    "           }\n",
    "\n",
    "def parse_dict(my_dict, result):\n",
    "    for key, val in my_dict.items():\n",
    "        if type(val) == list:\n",
    "            for i in val:\n",
    "                result.append(i)\n",
    "        elif type(val) == dict:\n",
    "            parse_dict(val, result)\n",
    "        else:\n",
    "            result.append(val)\n",
    "    return result\n",
    "\n",
    "def get_path(my_dict, result, path):\n",
    "    for key, val in my_dict.items():\n",
    "        # If it's a dict, go one level deeper and update path\n",
    "        # to include the current key (node name)\n",
    "        if type(val) == dict:\n",
    "            get_path(val, result, path+[key])\n",
    "        \n",
    "        # If it's not a dict, then append the key and don't\n",
    "        # go down another level (since no need to)\n",
    "        elif type(val) == list:\n",
    "            for i in val:\n",
    "                result.append(path+[key])\n",
    "        else:\n",
    "            result.append(path+[key])\n",
    "    return result"
   ]
  },
  {
   "cell_type": "code",
   "execution_count": 4,
   "metadata": {},
   "outputs": [
    {
     "data": {
      "text/plain": [
       "[1, 2]"
      ]
     },
     "execution_count": 4,
     "metadata": {},
     "output_type": "execute_result"
    }
   ],
   "source": [
    "parse_dict(my_dict0, [])"
   ]
  },
  {
   "cell_type": "code",
   "execution_count": 5,
   "metadata": {},
   "outputs": [
    {
     "data": {
      "text/plain": [
       "[['root', 'b1'], ['root', 'b2']]"
      ]
     },
     "execution_count": 5,
     "metadata": {},
     "output_type": "execute_result"
    }
   ],
   "source": [
    "get_path(my_dict0, [], [])"
   ]
  },
  {
   "cell_type": "code",
   "execution_count": 6,
   "metadata": {},
   "outputs": [
    {
     "data": {
      "text/plain": [
       "[1, 2, 3, 4, 5, 6, 7, 8, 9, 10, 11, 12]"
      ]
     },
     "execution_count": 6,
     "metadata": {},
     "output_type": "execute_result"
    }
   ],
   "source": [
    "parse_dict(my_dict1, [])"
   ]
  },
  {
   "cell_type": "code",
   "execution_count": 7,
   "metadata": {},
   "outputs": [
    {
     "data": {
      "text/plain": [
       "[['root', 'b1', 'leaf1'],\n",
       " ['root', 'b1', 'leaf1'],\n",
       " ['root', 'b1', 'leaf1'],\n",
       " ['root', 'b1', 'leaf2'],\n",
       " ['root', 'b1', 'leaf3'],\n",
       " ['root', 'b1', 'leaf3'],\n",
       " ['root', 'b2', 'leaf1'],\n",
       " ['root', 'b2', 'leaf1'],\n",
       " ['root', 'b2', 'leaf2'],\n",
       " ['root', 'b2', 'leaf2'],\n",
       " ['root', 'b2', 'leaf2'],\n",
       " ['root', 'b3']]"
      ]
     },
     "execution_count": 7,
     "metadata": {},
     "output_type": "execute_result"
    }
   ],
   "source": [
    "get_path(my_dict1, [], [])"
   ]
  },
  {
   "cell_type": "code",
   "execution_count": null,
   "metadata": {},
   "outputs": [],
   "source": []
  }
 ],
 "metadata": {
  "kernelspec": {
   "display_name": "Python 3",
   "language": "python",
   "name": "python3"
  },
  "language_info": {
   "codemirror_mode": {
    "name": "ipython",
    "version": 3
   },
   "file_extension": ".py",
   "mimetype": "text/x-python",
   "name": "python",
   "nbconvert_exporter": "python",
   "pygments_lexer": "ipython3",
   "version": "3.7.1"
  }
 },
 "nbformat": 4,
 "nbformat_minor": 2
}
